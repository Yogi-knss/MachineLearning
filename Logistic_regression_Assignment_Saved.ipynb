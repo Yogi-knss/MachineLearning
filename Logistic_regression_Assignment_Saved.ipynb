{
 "cells": [
  {
   "cell_type": "markdown",
   "metadata": {
    "id": "YOoMmn6xpOkJ"
   },
   "source": [
    "# Implement Logistic Regression from scratch\n",
    "\n",
    "In this assignment, you will implement Logistic Regression with L1 regularization from scratch and predict the labels of the test data. You will then verify the correctness of the your implementation using multiple \"grader\" functions/cells (provided by us) which will match your implmentation.\n",
    "\n",
    "The grader functions would help you validate the correctness of your code. \n",
    "\n",
    "Please submit the final Colab notebook in the classroom ONLY after you have verified your code using the grader functions/cells.\n",
    "\n",
    "\n",
    "**NOTE: DO NOT change the \"grader\" functions or code snippets written by us.Please add your code in the suggested locations.**\n",
    "\n",
    "Ethics Code:\n",
    "1. You are welcome to read up online resources to implement the code. \n",
    "2. You can also discuss with your classmates on the implmentation over Slack.\n",
    "3. But, the code you write and submit should be yours ONLY. Your code will be compared against other stduents' code and online code snippets to check for plagiarism. If your code is found to be plagiarised, you will be awarded zero-marks for all assignments, which have a 10% weightage in the final marks for this course."
   ]
  },
  {
   "cell_type": "code",
   "execution_count": 1,
   "metadata": {
    "colab": {
     "base_uri": "https://localhost:8080/"
    },
    "id": "MAlENnFPpQ3Y",
    "outputId": "34a2c70b-ef27-4e94-f128-83d1f52ab76b"
   },
   "outputs": [
    {
     "ename": "ModuleNotFoundError",
     "evalue": "No module named 'google.colab'",
     "output_type": "error",
     "traceback": [
      "\u001b[1;31m---------------------------------------------------------------------------\u001b[0m",
      "\u001b[1;31mModuleNotFoundError\u001b[0m                       Traceback (most recent call last)",
      "\u001b[1;32m<ipython-input-1-60a22bb7dd4a>\u001b[0m in \u001b[0;36m<module>\u001b[1;34m\u001b[0m\n\u001b[0;32m      1\u001b[0m \u001b[1;31m# Code to mount google drive in case you are loading the data from your google drive\u001b[0m\u001b[1;33m\u001b[0m\u001b[1;33m\u001b[0m\u001b[1;33m\u001b[0m\u001b[0m\n\u001b[1;32m----> 2\u001b[1;33m \u001b[1;32mfrom\u001b[0m \u001b[0mgoogle\u001b[0m\u001b[1;33m.\u001b[0m\u001b[0mcolab\u001b[0m \u001b[1;32mimport\u001b[0m \u001b[0mdrive\u001b[0m\u001b[1;33m\u001b[0m\u001b[1;33m\u001b[0m\u001b[0m\n\u001b[0m\u001b[0;32m      3\u001b[0m \u001b[0mdrive\u001b[0m\u001b[1;33m.\u001b[0m\u001b[0mmount\u001b[0m\u001b[1;33m(\u001b[0m\u001b[1;34m'/gdrive'\u001b[0m\u001b[1;33m)\u001b[0m\u001b[1;33m\u001b[0m\u001b[1;33m\u001b[0m\u001b[0m\n\u001b[0;32m      4\u001b[0m \u001b[0mget_ipython\u001b[0m\u001b[1;33m(\u001b[0m\u001b[1;33m)\u001b[0m\u001b[1;33m.\u001b[0m\u001b[0mrun_line_magic\u001b[0m\u001b[1;33m(\u001b[0m\u001b[1;34m'cd'\u001b[0m\u001b[1;33m,\u001b[0m \u001b[1;34m'/gdrive'\u001b[0m\u001b[1;33m)\u001b[0m\u001b[1;33m\u001b[0m\u001b[1;33m\u001b[0m\u001b[0m\n",
      "\u001b[1;31mModuleNotFoundError\u001b[0m: No module named 'google.colab'"
     ]
    }
   ],
   "source": [
    "# Code to mount google drive in case you are loading the data from your google drive\n",
    "from google.colab import drive\n",
    "drive.mount('/gdrive')\n",
    "%cd /gdrive"
   ]
  },
  {
   "cell_type": "code",
   "execution_count": 11,
   "metadata": {
    "colab": {
     "base_uri": "https://localhost:8080/",
     "height": 419
    },
    "id": "KMnahnQEpfQb",
    "outputId": "ea6f20cb-6f1a-4eb3-ecf1-96787818948f"
   },
   "outputs": [
    {
     "data": {
      "text/html": [
       "<div>\n",
       "<style scoped>\n",
       "    .dataframe tbody tr th:only-of-type {\n",
       "        vertical-align: middle;\n",
       "    }\n",
       "\n",
       "    .dataframe tbody tr th {\n",
       "        vertical-align: top;\n",
       "    }\n",
       "\n",
       "    .dataframe thead th {\n",
       "        text-align: right;\n",
       "    }\n",
       "</style>\n",
       "<table border=\"1\" class=\"dataframe\">\n",
       "  <thead>\n",
       "    <tr style=\"text-align: right;\">\n",
       "      <th></th>\n",
       "      <th>category</th>\n",
       "      <th>text</th>\n",
       "    </tr>\n",
       "  </thead>\n",
       "  <tbody>\n",
       "    <tr>\n",
       "      <th>0</th>\n",
       "      <td>0</td>\n",
       "      <td>worldcom boss  left books alone  former worldc...</td>\n",
       "    </tr>\n",
       "    <tr>\n",
       "      <th>1</th>\n",
       "      <td>1</td>\n",
       "      <td>tigers wary of farrell  gamble  leicester say ...</td>\n",
       "    </tr>\n",
       "    <tr>\n",
       "      <th>2</th>\n",
       "      <td>1</td>\n",
       "      <td>yeading face newcastle in fa cup premiership s...</td>\n",
       "    </tr>\n",
       "    <tr>\n",
       "      <th>3</th>\n",
       "      <td>1</td>\n",
       "      <td>henman hopes ended in dubai third seed tim hen...</td>\n",
       "    </tr>\n",
       "    <tr>\n",
       "      <th>4</th>\n",
       "      <td>1</td>\n",
       "      <td>wilkinson fit to face edinburgh england captai...</td>\n",
       "    </tr>\n",
       "    <tr>\n",
       "      <th>...</th>\n",
       "      <td>...</td>\n",
       "      <td>...</td>\n",
       "    </tr>\n",
       "    <tr>\n",
       "      <th>1012</th>\n",
       "      <td>0</td>\n",
       "      <td>wall street cool to ebay s profit shares in on...</td>\n",
       "    </tr>\n",
       "    <tr>\n",
       "      <th>1013</th>\n",
       "      <td>0</td>\n",
       "      <td>ban on forced retirement under 65 employers wi...</td>\n",
       "    </tr>\n",
       "    <tr>\n",
       "      <th>1014</th>\n",
       "      <td>1</td>\n",
       "      <td>time to get tough on friendlies  for an intern...</td>\n",
       "    </tr>\n",
       "    <tr>\n",
       "      <th>1015</th>\n",
       "      <td>0</td>\n",
       "      <td>christmas shoppers flock to tills shops all ov...</td>\n",
       "    </tr>\n",
       "    <tr>\n",
       "      <th>1016</th>\n",
       "      <td>0</td>\n",
       "      <td>bush budget seeks deep cutbacks president bush...</td>\n",
       "    </tr>\n",
       "  </tbody>\n",
       "</table>\n",
       "<p>1017 rows × 2 columns</p>\n",
       "</div>"
      ],
      "text/plain": [
       "      category                                               text\n",
       "0            0  worldcom boss  left books alone  former worldc...\n",
       "1            1  tigers wary of farrell  gamble  leicester say ...\n",
       "2            1  yeading face newcastle in fa cup premiership s...\n",
       "3            1  henman hopes ended in dubai third seed tim hen...\n",
       "4            1  wilkinson fit to face edinburgh england captai...\n",
       "...        ...                                                ...\n",
       "1012         0  wall street cool to ebay s profit shares in on...\n",
       "1013         0  ban on forced retirement under 65 employers wi...\n",
       "1014         1  time to get tough on friendlies  for an intern...\n",
       "1015         0  christmas shoppers flock to tills shops all ov...\n",
       "1016         0  bush budget seeks deep cutbacks president bush...\n",
       "\n",
       "[1017 rows x 2 columns]"
      ]
     },
     "execution_count": 11,
     "metadata": {},
     "output_type": "execute_result"
    }
   ],
   "source": [
    "# Loading data from csv file\n",
    "import pandas as pd\n",
    "data_path = 'logistic_regression_assignment_data.csv'\n",
    "\n",
    "df = pd.read_csv(data_path)\n",
    "df"
   ]
  },
  {
   "cell_type": "markdown",
   "metadata": {
    "id": "kTQOrw6JCu5D"
   },
   "source": [
    "#### **Note:** Here class-0 is of category \"business\" and class-1 is of category \"sport\""
   ]
  },
  {
   "cell_type": "code",
   "execution_count": 12,
   "metadata": {
    "colab": {
     "base_uri": "https://localhost:8080/"
    },
    "id": "T0_a8GvRqwzj",
    "outputId": "0ce23862-a8eb-4a1b-c3f7-30a3655da331"
   },
   "outputs": [
    {
     "data": {
      "text/plain": [
       "1    509\n",
       "0    508\n",
       "Name: category, dtype: int64"
      ]
     },
     "execution_count": 12,
     "metadata": {},
     "output_type": "execute_result"
    }
   ],
   "source": [
    "# Data Overiview\n",
    "df['category'].value_counts()"
   ]
  },
  {
   "cell_type": "markdown",
   "metadata": {
    "id": "RW3eJmVbubx4"
   },
   "source": [
    "### Creating Train and Test Datasets\n"
   ]
  },
  {
   "cell_type": "code",
   "execution_count": 13,
   "metadata": {
    "colab": {
     "base_uri": "https://localhost:8080/"
    },
    "id": "f5iXh7PusnyJ",
    "outputId": "a33b69fc-d1c7-4e47-ca0e-55058c1ca583"
   },
   "outputs": [
    {
     "name": "stdout",
     "output_type": "stream",
     "text": [
      "Shape of Train_Text =  (1006,)\n",
      "Shape of Test_Text =  (11,)\n",
      "Shape of Train_Category =  (1006,)\n",
      "Shape of Train_Category =  (11,)\n"
     ]
    }
   ],
   "source": [
    "# Splitting the data into train and test\n",
    "\n",
    "from sklearn.model_selection import train_test_split\n",
    "\n",
    "text = df['text']\n",
    "category = df['category']\n",
    "train_text, test_text, train_category, test_category = train_test_split(text, category, random_state=42, stratify=category, test_size=0.01)\n",
    "\n",
    "print(\"Shape of Train_Text = \", train_text.shape)\n",
    "print(\"Shape of Test_Text = \", test_text.shape)\n",
    "print(\"Shape of Train_Category = \", train_category.shape)\n",
    "print(\"Shape of Train_Category = \", test_category.shape)"
   ]
  },
  {
   "cell_type": "markdown",
   "metadata": {
    "id": "G6JlCeWPvNPS"
   },
   "source": [
    "## Custom Implementation"
   ]
  },
  {
   "cell_type": "markdown",
   "metadata": {
    "id": "VQRHOpf1vO69"
   },
   "source": [
    "### Instructions:\n",
    "\n",
    "  1. Read in the train_data.\n",
    "  2. Vectorize train_data and test_data using sklearns built in tfidf vectorizer.\n",
    "  3. Ignore unigrams and make use of both **bigrams & trigrams** and also limit the **max features** to **2000** and **minimum document frequency** to **10**.\n",
    "  4. After the tfidf vectors are generated as mentioned above, next task is to column standardize your data.\n",
    "  5. We want you to write in comments in your code, the reason you think for standardizing the data in the above step.\n",
    "  6. You can use sklearn StandardScaler to column standardize your data.\n",
    "  7. Write a function to initialise your weights & bias. And then run its corresponding grader function.\n",
    "  8. Write a custom function to calculate sigmoid of a value. And then run its corresponding grader function to cross check your implementation of sigmoid function.\n",
    "  9. Write a custom function to compute the total loss as the sum of log loss and l1 regularization loss based on true labels and predicted labels and weights. And you can crosscheck your implementation with its corresponding grader.\n",
    "  10. Write a function to compute gradients for your weights and bias terms, which you have to make use of in updating your weights and bias while training your model.\n",
    "  11. Implement a custom train function of logistic regression, wherein you take in the following inputs:\n",
    "        * **X_train** which will be your vectorized text data\n",
    "        * **y_train** which are the labels for your train data\n",
    "        * **alpha** = 0.0001 which is the regularization factor (λ) \n",
    "        * **eta0** = 0.0001 which will be the learning rate   \n",
    "        * **tolerance** = 0.001\n",
    "        \n",
    "  12. In the custom train function you should make use of a custom SGD function to update the weights and bias terms for **each** of your inputs. \n",
    "  13. The custom SGD implemented in the above train function for updating the weights and bias terms should run for many epochs until the difference in loss between two consecutive epochs is less than tolerance.\n",
    "\n",
    "  14. Here one epoch means a complete iteration of your entire train data.\n",
    "  15. Your train function should return the follwing:\n",
    "        * the number of epochs it took to complete the training\n",
    "        * train loss for all epochs\n",
    "        * the values for final weights and bias terms.\n",
    "        \n",
    "  16. Now run the grader function to check whether the weights and bias obtained from your custom implementation are close enough to that of sklearns implementation.\n",
    "  17. Next write a custom predict function which takes in as input the weights and bias values that you computed in your train function, and also takes in the test standardized data as input to predict its labels.\n",
    "  18. Now run the grader function to check the accuracy of your predictions.\n",
    "\n",
    "\n",
    "\n"
   ]
  },
  {
   "cell_type": "markdown",
   "metadata": {
    "id": "1Kb2V8ZXM-6M"
   },
   "source": [
    "###Import necessary libraries"
   ]
  },
  {
   "cell_type": "code",
   "execution_count": 14,
   "metadata": {
    "id": "a3Zm11bHNGBi"
   },
   "outputs": [],
   "source": [
    "import numpy as np\n",
    "from sklearn.feature_extraction.text import TfidfVectorizer\n",
    "from sklearn.preprocessing import StandardScaler\n",
    "from sklearn import linear_model\n",
    "import matplotlib.pyplot as plt\n",
    "import math"
   ]
  },
  {
   "cell_type": "markdown",
   "metadata": {
    "id": "_hfDStz1LvEe"
   },
   "source": [
    "### 1. Vectorize train data and test data using sklearn tf-idf in the below cell\n",
    "\n",
    "\n",
    "\n"
   ]
  },
  {
   "cell_type": "code",
   "execution_count": 15,
   "metadata": {
    "colab": {
     "base_uri": "https://localhost:8080/"
    },
    "id": "JoiLZawBMI2B",
    "outputId": "8a78dcaa-c781-49c4-fb72-79f2f41ea0f1"
   },
   "outputs": [
    {
     "data": {
      "text/plain": [
       "((1006, 2000), (11, 2000))"
      ]
     },
     "execution_count": 15,
     "metadata": {},
     "output_type": "execute_result"
    }
   ],
   "source": [
    "'''vectorize train and test data using TF-IDF and store them in train_vectors and test_vectors respectively'''\n",
    "#defining the required parameters\n",
    "max_features=2000 #max features for tf-idf\n",
    "ngram_min=2 #min n_gram allowed\n",
    "ngram_max=3 # max n_gram allowed\n",
    "min_df=10 #min_df value for tf-idf vectorizer\n",
    "\n",
    "vectorizer = TfidfVectorizer(ngram_range=(ngram_min,ngram_max),max_features=max_features,min_df=min_df)\n",
    "train_vectors = vectorizer.fit_transform(train_text)\n",
    "\n",
    "test_vectors = vectorizer.transform(test_text)\n",
    "train_vectors.shape, test_vectors.shape\n",
    "\n",
    "#print(train_vectors)"
   ]
  },
  {
   "cell_type": "markdown",
   "metadata": {
    "id": "0igVcuTSN4pS"
   },
   "source": [
    "###2. Column standardize the train and test data"
   ]
  },
  {
   "cell_type": "markdown",
   "metadata": {
    "id": "7zqOC3wx8LWF"
   },
   "source": [
    "What is the reasoning for column standardizing the data?\n"
   ]
  },
  {
   "cell_type": "markdown",
   "metadata": {
    "id": "H4jJ4xm58UPZ"
   },
   "source": [
    "Answer: To avoid variance in data across features"
   ]
  },
  {
   "cell_type": "code",
   "execution_count": 16,
   "metadata": {
    "colab": {
     "base_uri": "https://localhost:8080/"
    },
    "id": "D9vQGIN_N8u2",
    "outputId": "aa615fbb-0276-4429-a77b-5fa00f161e0b"
   },
   "outputs": [
    {
     "data": {
      "text/plain": [
       "((1006, 2000), (11, 2000))"
      ]
     },
     "execution_count": 16,
     "metadata": {},
     "output_type": "execute_result"
    }
   ],
   "source": [
    "'''column standardize the train and test data and store them in train_vectors_stand and test_vectors_stand'''\n",
    "\n",
    "scaler = StandardScaler()\n",
    "\n",
    "train_vectors_stand = scaler.fit_transform(train_vectors.toarray())\n",
    "test_vectors_stand = scaler.fit_transform(test_vectors.toarray())\n",
    "train_vectors_stand.shape, test_vectors_stand.shape\n",
    "#print(train_vectors_stand)"
   ]
  },
  {
   "cell_type": "markdown",
   "metadata": {
    "id": "sKL7ul-A5U6n"
   },
   "source": [
    "### 3. Custom function to intialise your weights and bias terms"
   ]
  },
  {
   "cell_type": "code",
   "execution_count": 17,
   "metadata": {
    "id": "dUmNAPWe3rso"
   },
   "outputs": [],
   "source": [
    "def initialize_weights_bias(dim):\n",
    "    ''' In this function, we will initialize our weights and bias terms'''\n",
    "\n",
    "    # Initialize the weights to zeros array of (dim) dimensions. Here dim will be the number of features of your tfidf vectorizer output.\n",
    "    # You can initialize the weight terms with zeros.\n",
    "    # Initialize bias term to zero\n",
    "    # Write your code below.\n",
    "    w = np.zeros(dim,)\n",
    "    b = 0\n",
    "\n",
    "    return w,b"
   ]
  },
  {
   "cell_type": "markdown",
   "metadata": {
    "id": "b5H1j1bo5e2-"
   },
   "source": [
    "### Grader Function - 1"
   ]
  },
  {
   "cell_type": "code",
   "execution_count": 18,
   "metadata": {
    "id": "D_wIbcOj3JrV"
   },
   "outputs": [
    {
     "name": "stdout",
     "output_type": "stream",
     "text": [
      "Grader_1 Status :  True\n"
     ]
    }
   ],
   "source": [
    "# Grader function to check the initialization of your weights and bias terms.\n",
    "\n",
    "def grader_weights_bias(w,b):\n",
    "  assert((len(w)==2000) and b==0)\n",
    "  return True\n",
    "\n",
    "dim = 2000\n",
    "w,b = initialize_weights_bias(dim)\n",
    "grader_1 = grader_weights_bias(w,b)\n",
    "print(\"Grader_1 Status : \", grader_1)"
   ]
  },
  {
   "cell_type": "markdown",
   "metadata": {
    "id": "oLGMaOFE6JDF"
   },
   "source": [
    "### 4. Custom function to calculate sigmoid of a value"
   ]
  },
  {
   "cell_type": "code",
   "execution_count": 19,
   "metadata": {
    "id": "FfP2Z7gv3JpX"
   },
   "outputs": [],
   "source": [
    "def custom_sigmoid(z):\n",
    "    ''' In this function, we will return sigmoid of z'''\n",
    "    \n",
    "    # Compute sigmoid(z) and return its value.\n",
    "    # Write your code below.\n",
    "    \n",
    "    sigmoid = 1 / (1 + np.exp(-z))\n",
    "\n",
    "    return sigmoid"
   ]
  },
  {
   "cell_type": "markdown",
   "metadata": {
    "id": "lmoPhaX16pJ2"
   },
   "source": [
    "### Grader Function - 2"
   ]
  },
  {
   "cell_type": "code",
   "execution_count": 20,
   "metadata": {
    "id": "G14xZAg_6x6C"
   },
   "outputs": [
    {
     "name": "stdout",
     "output_type": "stream",
     "text": [
      "Grader_2 Status :  True\n"
     ]
    }
   ],
   "source": [
    "# Grader function to check the implementaiton of sigmoid function\n",
    "\n",
    "def grader_sigmoid(z):\n",
    "  val = custom_sigmoid(z)\n",
    "  assert(val==0.8807970779778823)\n",
    "  return True\n",
    "\n",
    "grader_2 = grader_sigmoid(2)\n",
    "print(\"Grader_2 Status : \", grader_2)"
   ]
  },
  {
   "cell_type": "markdown",
   "metadata": {
    "id": "SVTM6TpQ6JTS"
   },
   "source": [
    "### 5.  Custom function to compute loss function"
   ]
  },
  {
   "cell_type": "markdown",
   "metadata": {
    "id": "Q5B5oKpf4h0n"
   },
   "source": [
    "$logloss = -1*\\frac{1}{n}\\Sigma_{for each Y_{true},Y_{pred}}(Y_{true}log10(Y_{pred})+(1-Y_{true})log10(1-Y_{pred}))$ \n"
   ]
  },
  {
   "cell_type": "markdown",
   "metadata": {
    "id": "AnS1uSrV6CAk"
   },
   "source": [
    "$L1 loss = \\Sigma_{for each w}(|w|)$"
   ]
  },
  {
   "cell_type": "markdown",
   "metadata": {
    "id": "azcvxO3u6lNK"
   },
   "source": [
    "$total loss = logloss + alpha*L1loss$<br>\n",
    "Where alphas is the regularization parameter"
   ]
  },
  {
   "cell_type": "code",
   "execution_count": 36,
   "metadata": {
    "id": "41ush74x8ueR"
   },
   "outputs": [],
   "source": [
    "def custom_loss(y_true, y_pred, alpha, w):\n",
    "    '''In this function, we will compute total loss which is [(logloss) + (alpha * L1regularization loss)] '''\n",
    "    \n",
    "    eps = 1e-15\n",
    "\n",
    "    y_pred = np.clip(y_pred,eps,1-eps)\n",
    "    log_loss = (-1/len(y_true))*(np.sum([ i*np.log10(j) + ( (1-i)*np.log10(1-j) ) for i,j in zip(y_true, y_pred)]))\n",
    "    #l1_loss = sum([abs(weight) for weight in w])\n",
    "    #total_loss = log_loss+(alpha*l1_loss)\n",
    "    \n",
    "    #y_pred = np.clip(y_pred,eps,1-eps)\n",
    "    #log_loss = (-1/len(y_true))*(np.sum(y_true * np.log(y_pred)))\n",
    "    l1_loss = sum([abs(weight) for weight in w])\n",
    "    total_loss = log_loss+(alpha*l1_loss)\n",
    "    \n",
    "    # Write your code below.\n",
    "    #log_loss = 0\n",
    "    #l1_loss = 0\n",
    "    #for i in y_true:\n",
    "        \n",
    "     #   log_loss += ((y_true[i] * math.log10(y_pred[i])) - ((1 - y_true[i]) * math.log10(1 - y_pred[i])))\n",
    "        #print(log_loss)\n",
    "        \n",
    "    #l1_loss = np.sum(w)  \n",
    "    #print(l1_loss)\n",
    "    #total_loss = -log_loss/len(y_true) + (alpha * l1_loss)\n",
    "\n",
    "    return total_loss"
   ]
  },
  {
   "cell_type": "markdown",
   "metadata": {
    "id": "DYPtH_bM6obu"
   },
   "source": [
    "### Grader Function - 3"
   ]
  },
  {
   "cell_type": "code",
   "execution_count": 37,
   "metadata": {
    "id": "AeNjSysS829s"
   },
   "outputs": [
    {
     "name": "stdout",
     "output_type": "stream",
     "text": [
      "Grader_3 Status :  True\n"
     ]
    }
   ],
   "source": [
    "# Grader function to check the implementaiton of logloss\n",
    "\n",
    "def grader_loss():\n",
    "  true_values = [1,1,0,1,0]\n",
    "  pred_values = [0.9,0.8,0.1,0.8,0.2]\n",
    "  w= np.array([0.1]*10)\n",
    "  alpha= 0.0001\n",
    "  #print(w)\n",
    "  loss = custom_loss(true_values, pred_values,alpha,w)\n",
    "  #print(loss)\n",
    "  #print(0.07644900402910389+0.0001*10*0.1)\n",
    "  assert(loss==0.07644900402910389+0.0001*10*0.1)\n",
    "  return True\n",
    "\n",
    "\n",
    "grader_3 = grader_loss()\n",
    "print(\"Grader_3 Status : \", grader_3)"
   ]
  },
  {
   "cell_type": "markdown",
   "metadata": {
    "id": "LQGM1j2B6Jbf"
   },
   "source": [
    "### 6. Custom function to updated weights and bias terms"
   ]
  },
  {
   "cell_type": "markdown",
   "metadata": {
    "id": "FlqoG2CBMAjI"
   },
   "source": [
    "Use the below formula to compute gradient of your weight and bias terms <br>\n",
    "Loss term Li for a single example is given as below: \n",
    "<br>\n",
    "<br>\n",
    "\n",
    "$Li= -(Y_{i}log10(𝝈_{i})-(1-Y_{i})log10(1-𝝈_{i}) + \\frac{alpha}{N}(sum(|w|))\n",
    "$ <br>\n",
    "<br>\n",
    "$Where: 𝝈_{i} = σ(w^{T} x_i+b) $ <br>\n",
    "<br>\n",
    "And: L1 regularization = $\\frac{alpha}{N}(sum(|w|)) $ <br>\n",
    "Alpha: It is the Regularization parameter <br>\n",
    "N : number of training examples<br>\n",
    "σ : sigmoid function <br>\n",
    "<br>\n",
    "<br>\n",
    "<br>\n",
    "$dLi/dw= -Y_{i}x_{i}(1-𝝈_{i}) + (1-Y_{i})x_{i}𝝈_{i} + \\frac{alpha}{N} \\frac{w + (1e-5)}{|w + (1e-5)|}  $<br>\n",
    "NOTE THAT: 1e-5 used in numerator and denominator to avoid division error <br>\n",
    "\n",
    "$dLi/db= -Y_{i}(1-𝝈_{i}) + (1-Y_{i})𝝈_{i}$<br>\n",
    "<br>\n",
    "<br>\n",
    "Hence,<br>\n",
    "$dLi/dw= dw = (𝝈_{i} -Y_{i})x_{i} + \\frac{alpha}{N}\\frac{w + (1e-5)}{|w + (1e-5)|} $<br>\n",
    "1e-5 used in numerator and denominator to avoid division error <br>\n",
    "$dLi/db =  db = 𝝈_{i}-Y_{i}$\n",
    "<br>\n",
    "<br>\n",
    "!!NOTE: USE NEGATIVE GRADIENT WHILE UPDATING"
   ]
  },
  {
   "cell_type": "markdown",
   "metadata": {
    "id": "5UBBkZNJM2Fg"
   },
   "source": [
    "### 6a. Custom function to compute Gradient of loss function wrt weights:"
   ]
  },
  {
   "cell_type": "code",
   "execution_count": 48,
   "metadata": {
    "id": "hREi7bQxM8h-"
   },
   "outputs": [],
   "source": [
    "def gradient_dw(x, y, w, b, alpha, N):\n",
    "    '''In this function, we will compute the gardient w.r.t. w '''\n",
    "    #sigma_i = custom_sigmoid(w.dot(x.T) + b)\n",
    "    #dw = ( (sigma_i - y).dot(x)) + ( ( alpha/N )*( np.sign(w) ) )\n",
    "    #return dw\n",
    "    \n",
    "    # Write your code below.\n",
    "    dotProd = w.dot(x.T) + b #(np.dot(w.T,x)+b)\n",
    "    sigmoid = custom_sigmoid(dotProd)\n",
    "    \n",
    "    db = sigmoid - y\n",
    "    #print(db)\n",
    "    dw = db.dot(x) +( (alpha/N)*(np.sign(w))) #((w+1e-5)/abs(w+1e-5)))# (np.sign(w))\n",
    "    \n",
    "    return dw\n",
    "\n",
    "\n",
    "\n"
   ]
  },
  {
   "cell_type": "markdown",
   "metadata": {
    "id": "DyxGabPPM_lL"
   },
   "source": [
    "### 6b.  Custom function to compute Gradient of loss function wrt bias term:"
   ]
  },
  {
   "cell_type": "code",
   "execution_count": 24,
   "metadata": {
    "id": "mIMxwuBAND0a"
   },
   "outputs": [],
   "source": [
    "def gradient_db(x, y, w, b):\n",
    "    '''In this function, we will compute the gardient w.r.t. b '''\n",
    "    sigma_i = custom_sigmoid(w.dot(x.T) + b)\n",
    "   \n",
    "    db = custom_sigmoid(w.dot(x.T) + b) - y     \n",
    "    return db\n",
    "\n",
    "    # Write your code below.\n",
    "    # 𝝈𝑖=σ(𝑤𝑇𝑥𝑖+𝑏), 𝝈𝑖−𝑌𝑖\n",
    "    #dotProd = (np.dot(w.T,x)+b)\n",
    "    #sigmoid = custom_sigmoid(dotProd)\n",
    "    \n",
    "    #db = sigmoid - y\n",
    "\n",
    "    #return db"
   ]
  },
  {
   "cell_type": "markdown",
   "metadata": {
    "id": "DA6UuRWA-Pvf"
   },
   "source": [
    "###6c. Custom function to train logistic regression model"
   ]
  },
  {
   "cell_type": "markdown",
   "metadata": {
    "id": "KgdgYdyRX06U"
   },
   "source": [
    "$w^{(t+1)}← w^{(t)}- eta0*(dw^{(t)}) $<br>\n",
    "$b^{(t+1)}←b^{(t)} - eta0*(db^{(t)}) $"
   ]
  },
  {
   "cell_type": "code",
   "execution_count": 45,
   "metadata": {
    "id": "44nod2Gu-ZWq"
   },
   "outputs": [],
   "source": [
    "def custom_train(X_train, y_train,alpha, eta0,tolerance):\n",
    "  \"\"\"\n",
    "  In this function we will compute optimal values for weights and bias terms on\n",
    "  the train data. \n",
    "\n",
    "  Here eta0 is the learning rate and alpha is the regularization term.\n",
    "  \"\"\"\n",
    "  train_loss=[]\n",
    "    \n",
    "    \n",
    "  num_epochs = 0\n",
    "  continue_loop = True\n",
    "\n",
    "  # Implement the code as follows:\n",
    "\n",
    "  # 1. Initalize the weights (call the initialize_weights(X_train[0]) function)\n",
    "  # 2. Repeat For many epochs until condition \"e\"  fails\n",
    "          # a) for every data point(X_train,y_train)\n",
    "                # compute gradient w.r.to w (call the gradient_dw() function)\n",
    "                # compute gradient w.r.to b (call the gradient_db() function)\n",
    "                # update w, b using the above eqns\n",
    "          # b) predict the output of x_train[for all data points in X_train] using w,b\n",
    "          # c) compute the loss between predicted and actual values (call the loss function)\n",
    "          # d) store all the train loss values in a list\n",
    "          # e) Compare previous loss and current loss, if the difference between loss is not more than or equal to the tolerance, stop the process and return w,b\n",
    "\n",
    "  # 3. Return the values of weights, bias, train_loss and num_epochs\n",
    "  N=len(X_train)\n",
    "  w,b = initialize_weights_bias(X_train.shape[1])\n",
    "  \n",
    "  print(\"initial b\",b)  \n",
    "  print(\"initial w\",w)\n",
    "  #condition to run the training for more epochs\n",
    "  cond=True\n",
    "\n",
    "  #checking whether to run the training for more epochs\n",
    "  while(cond):\n",
    "    \n",
    "    #looping through each datapoint\n",
    "    for j in range(len(X_train)):\n",
    "        x=X_train[j]\n",
    "        y=y_train[j]\n",
    "        \n",
    "        #computing gradients\n",
    "        dw=gradient_dw(x,y,w,b,alpha,N)\n",
    "        db=gradient_db(x,y,w,b)\n",
    "        \n",
    "        #updating weights\n",
    "        w=w-eta0*dw\n",
    "        b=b-eta0*db\n",
    "\n",
    "    #computing y_pred for entire train data as y_pred= sigmoid(wTx+b)\n",
    "    y_pred_train= np.array([custom_sigmoid(np.dot(w,X_traini)+b) for X_traini in X_train])\n",
    "\n",
    "    #adding the train loss of current epoch to the list\n",
    "    train_loss.append(custom_loss(y_train,y_pred_train,alpha,w))\n",
    "\n",
    "    #checking whether loss has improved from previous epoch by atleast tolerance\n",
    "    if num_epochs>0:\n",
    "      cond=((train_loss[num_epochs-1]-train_loss[num_epochs])>=tolerance)\n",
    "\n",
    "    #increasing the number of epochs the model is trained.\n",
    "    num_epochs=num_epochs+1\n",
    "        \n",
    "      #if num_epochs>0:\n",
    "        #continue_loop=((train_loss[num_epochs-1]-train_loss[num_epochs])>tolerance)\n",
    "    \n",
    "      #num_epochs+=1 # increase number of epoch\n",
    "      #print(train_loss)  \n",
    "      #print(num_epochs)\n",
    "      #print(b)\n",
    "      #print(w)\n",
    "      #eta0 = eta0*0.90\n",
    "      \n",
    "        \n",
    "        \n",
    "  b = np.mean(b)\n",
    "                         \n",
    "    \n",
    "  \n",
    "    \n",
    "  return w,b,train_loss,num_epochs\n",
    "  \n",
    "\n",
    "\n"
   ]
  },
  {
   "cell_type": "markdown",
   "metadata": {
    "id": "EKKUVLml6pGj"
   },
   "source": [
    "### Grader Function - 4"
   ]
  },
  {
   "cell_type": "code",
   "execution_count": 49,
   "metadata": {
    "id": "eAgSNFOU3JhN"
   },
   "outputs": [
    {
     "name": "stdout",
     "output_type": "stream",
     "text": [
      "initial b 0\n",
      "initial w [0. 0. 0. ... 0. 0. 0.]\n"
     ]
    },
    {
     "ename": "AttributeError",
     "evalue": "'numpy.float64' object has no attribute 'dot'",
     "output_type": "error",
     "traceback": [
      "\u001b[1;31m---------------------------------------------------------------------------\u001b[0m",
      "\u001b[1;31mAttributeError\u001b[0m                            Traceback (most recent call last)",
      "\u001b[1;32m<ipython-input-49-c5cf827b2d69>\u001b[0m in \u001b[0;36m<module>\u001b[1;34m\u001b[0m\n\u001b[0;32m     14\u001b[0m   \u001b[1;32mreturn\u001b[0m \u001b[1;32mTrue\u001b[0m\u001b[1;33m\u001b[0m\u001b[1;33m\u001b[0m\u001b[0m\n\u001b[0;32m     15\u001b[0m \u001b[1;33m\u001b[0m\u001b[0m\n\u001b[1;32m---> 16\u001b[1;33m \u001b[0mgrader_4\u001b[0m \u001b[1;33m=\u001b[0m \u001b[0mgrader_weights_bias\u001b[0m\u001b[1;33m(\u001b[0m\u001b[1;33m)\u001b[0m\u001b[1;33m\u001b[0m\u001b[1;33m\u001b[0m\u001b[0m\n\u001b[0m\u001b[0;32m     17\u001b[0m \u001b[0mprint\u001b[0m\u001b[1;33m(\u001b[0m\u001b[1;34m\"Grader_4 Status : \"\u001b[0m\u001b[1;33m,\u001b[0m \u001b[0mgrader_4\u001b[0m\u001b[1;33m)\u001b[0m\u001b[1;33m\u001b[0m\u001b[1;33m\u001b[0m\u001b[0m\n",
      "\u001b[1;32m<ipython-input-49-c5cf827b2d69>\u001b[0m in \u001b[0;36mgrader_weights_bias\u001b[1;34m()\u001b[0m\n\u001b[0;32m      6\u001b[0m \u001b[1;33m\u001b[0m\u001b[0m\n\u001b[0;32m      7\u001b[0m   \u001b[1;31m# fitting custom train with same learning rate, regularization and tolerance as of sklearn\u001b[0m\u001b[1;33m\u001b[0m\u001b[1;33m\u001b[0m\u001b[1;33m\u001b[0m\u001b[0m\n\u001b[1;32m----> 8\u001b[1;33m   \u001b[0mw\u001b[0m\u001b[1;33m,\u001b[0m\u001b[0mb\u001b[0m\u001b[1;33m,\u001b[0m\u001b[0m_\u001b[0m\u001b[1;33m,\u001b[0m\u001b[0mepoch\u001b[0m \u001b[1;33m=\u001b[0m \u001b[0mcustom_train\u001b[0m\u001b[1;33m(\u001b[0m\u001b[0mtrain_vectors_stand\u001b[0m\u001b[1;33m,\u001b[0m \u001b[0mtrain_category\u001b[0m\u001b[1;33m.\u001b[0m\u001b[0mvalues\u001b[0m\u001b[1;33m,\u001b[0m \u001b[1;36m0.0001\u001b[0m\u001b[1;33m,\u001b[0m\u001b[1;36m0.0001\u001b[0m\u001b[1;33m,\u001b[0m\u001b[1;36m0.001\u001b[0m\u001b[1;33m)\u001b[0m\u001b[1;33m\u001b[0m\u001b[1;33m\u001b[0m\u001b[0m\n\u001b[0m\u001b[0;32m      9\u001b[0m \u001b[1;33m\u001b[0m\u001b[0m\n\u001b[0;32m     10\u001b[0m   \u001b[1;31m# checking whether the weights and bias returned by both the implementations are closer\u001b[0m\u001b[1;33m\u001b[0m\u001b[1;33m\u001b[0m\u001b[1;33m\u001b[0m\u001b[0m\n",
      "\u001b[1;32m<ipython-input-45-c483383975d6>\u001b[0m in \u001b[0;36mcustom_train\u001b[1;34m(X_train, y_train, alpha, eta0, tolerance)\u001b[0m\n\u001b[0;32m     43\u001b[0m \u001b[1;33m\u001b[0m\u001b[0m\n\u001b[0;32m     44\u001b[0m         \u001b[1;31m#computing gradients\u001b[0m\u001b[1;33m\u001b[0m\u001b[1;33m\u001b[0m\u001b[1;33m\u001b[0m\u001b[0m\n\u001b[1;32m---> 45\u001b[1;33m         \u001b[0mdw\u001b[0m\u001b[1;33m=\u001b[0m\u001b[0mgradient_dw\u001b[0m\u001b[1;33m(\u001b[0m\u001b[0mx\u001b[0m\u001b[1;33m,\u001b[0m\u001b[0my\u001b[0m\u001b[1;33m,\u001b[0m\u001b[0mw\u001b[0m\u001b[1;33m,\u001b[0m\u001b[0mb\u001b[0m\u001b[1;33m,\u001b[0m\u001b[0malpha\u001b[0m\u001b[1;33m,\u001b[0m\u001b[0mN\u001b[0m\u001b[1;33m)\u001b[0m\u001b[1;33m\u001b[0m\u001b[1;33m\u001b[0m\u001b[0m\n\u001b[0m\u001b[0;32m     46\u001b[0m         \u001b[0mdb\u001b[0m\u001b[1;33m=\u001b[0m\u001b[0mgradient_db\u001b[0m\u001b[1;33m(\u001b[0m\u001b[0mx\u001b[0m\u001b[1;33m,\u001b[0m\u001b[0my\u001b[0m\u001b[1;33m,\u001b[0m\u001b[0mw\u001b[0m\u001b[1;33m,\u001b[0m\u001b[0mb\u001b[0m\u001b[1;33m)\u001b[0m\u001b[1;33m\u001b[0m\u001b[1;33m\u001b[0m\u001b[0m\n\u001b[0;32m     47\u001b[0m \u001b[1;33m\u001b[0m\u001b[0m\n",
      "\u001b[1;32m<ipython-input-48-d958435a02f3>\u001b[0m in \u001b[0;36mgradient_dw\u001b[1;34m(x, y, w, b, alpha, N)\u001b[0m\n\u001b[0;32m     11\u001b[0m     \u001b[0mdb\u001b[0m \u001b[1;33m=\u001b[0m \u001b[0msigmoid\u001b[0m \u001b[1;33m-\u001b[0m \u001b[0my\u001b[0m\u001b[1;33m\u001b[0m\u001b[1;33m\u001b[0m\u001b[0m\n\u001b[0;32m     12\u001b[0m     \u001b[1;31m#print(db)\u001b[0m\u001b[1;33m\u001b[0m\u001b[1;33m\u001b[0m\u001b[1;33m\u001b[0m\u001b[0m\n\u001b[1;32m---> 13\u001b[1;33m     \u001b[0mdw\u001b[0m \u001b[1;33m=\u001b[0m \u001b[0mdb\u001b[0m\u001b[1;33m.\u001b[0m\u001b[0mdot\u001b[0m\u001b[1;33m(\u001b[0m\u001b[0mx\u001b[0m\u001b[1;33m)\u001b[0m \u001b[1;33m+\u001b[0m\u001b[1;33m(\u001b[0m \u001b[1;33m(\u001b[0m\u001b[0malpha\u001b[0m\u001b[1;33m/\u001b[0m\u001b[0mN\u001b[0m\u001b[1;33m)\u001b[0m\u001b[1;33m*\u001b[0m\u001b[1;33m(\u001b[0m\u001b[0mnp\u001b[0m\u001b[1;33m.\u001b[0m\u001b[0msign\u001b[0m\u001b[1;33m(\u001b[0m\u001b[0mw\u001b[0m\u001b[1;33m)\u001b[0m\u001b[1;33m)\u001b[0m\u001b[1;33m)\u001b[0m \u001b[1;31m#((w+1e-5)/abs(w+1e-5)))# (np.sign(w))\u001b[0m\u001b[1;33m\u001b[0m\u001b[1;33m\u001b[0m\u001b[0m\n\u001b[0m\u001b[0;32m     14\u001b[0m \u001b[1;33m\u001b[0m\u001b[0m\n\u001b[0;32m     15\u001b[0m     \u001b[1;32mreturn\u001b[0m \u001b[0mdw\u001b[0m\u001b[1;33m\u001b[0m\u001b[1;33m\u001b[0m\u001b[0m\n",
      "\u001b[1;31mAttributeError\u001b[0m: 'numpy.float64' object has no attribute 'dot'"
     ]
    }
   ],
   "source": [
    "def grader_weights_bias():\n",
    "  # fitting sklearn SGD classifier\n",
    "  clf = linear_model.SGDClassifier(eta0=0.0001, alpha=0.0001, loss='log', random_state=15, penalty='l1', tol=1e-3, learning_rate='constant')\n",
    "  clf.fit(train_vectors_stand,train_category.values)\n",
    "  model_coef= clf.coef_[0]\n",
    "\n",
    "  # fitting custom train with same learning rate, regularization and tolerance as of sklearn\n",
    "  w,b,_,epoch = custom_train(train_vectors_stand, train_category.values, 0.0001,0.0001,0.001)\n",
    "\n",
    "  # checking whether the weights and bias returned by both the implementations are closer\n",
    "  assert((not (w-model_coef>0.02).any())==True)\n",
    "  assert(not (b-clf.intercept_>0.02)==True)\n",
    "  \n",
    "  return True\n",
    "\n",
    "grader_4 = grader_weights_bias()\n",
    "print(\"Grader_4 Status : \", grader_4)"
   ]
  },
  {
   "cell_type": "markdown",
   "metadata": {
    "id": "GHrNKvsemncP"
   },
   "source": [
    "### 7. Plot the train loss with x as epoch number and y as train loss"
   ]
  },
  {
   "cell_type": "code",
   "execution_count": 10,
   "metadata": {
    "id": "OJ_7XOwzmvvi"
   },
   "outputs": [
    {
     "ename": "NameError",
     "evalue": "name 'train_vectors_stand' is not defined",
     "output_type": "error",
     "traceback": [
      "\u001b[1;31m---------------------------------------------------------------------------\u001b[0m",
      "\u001b[1;31mNameError\u001b[0m                                 Traceback (most recent call last)",
      "\u001b[1;32m<ipython-input-10-9e582af2f36b>\u001b[0m in \u001b[0;36m<module>\u001b[1;34m\u001b[0m\n\u001b[0;32m      1\u001b[0m \u001b[1;31m# plotting graph for epoch vs loss for train and test data\u001b[0m\u001b[1;33m\u001b[0m\u001b[1;33m\u001b[0m\u001b[1;33m\u001b[0m\u001b[0m\n\u001b[0;32m      2\u001b[0m \u001b[1;33m\u001b[0m\u001b[0m\n\u001b[1;32m----> 3\u001b[1;33m \u001b[0mw\u001b[0m\u001b[1;33m,\u001b[0m\u001b[0mb\u001b[0m\u001b[1;33m,\u001b[0m\u001b[0mtrain_loss\u001b[0m\u001b[1;33m,\u001b[0m\u001b[0mepochs\u001b[0m \u001b[1;33m=\u001b[0m \u001b[0mcustom_train\u001b[0m\u001b[1;33m(\u001b[0m\u001b[0mtrain_vectors_stand\u001b[0m\u001b[1;33m,\u001b[0m \u001b[0mtrain_category\u001b[0m\u001b[1;33m.\u001b[0m\u001b[0mvalues\u001b[0m\u001b[1;33m,\u001b[0m \u001b[1;36m0.0001\u001b[0m\u001b[1;33m,\u001b[0m\u001b[1;36m0.0001\u001b[0m\u001b[1;33m,\u001b[0m\u001b[1;36m0.001\u001b[0m\u001b[1;33m)\u001b[0m\u001b[1;33m\u001b[0m\u001b[1;33m\u001b[0m\u001b[0m\n\u001b[0m\u001b[0;32m      4\u001b[0m \u001b[0mplt\u001b[0m\u001b[1;33m.\u001b[0m\u001b[0mplot\u001b[0m\u001b[1;33m(\u001b[0m\u001b[0mrange\u001b[0m\u001b[1;33m(\u001b[0m\u001b[0mepochs\u001b[0m\u001b[1;33m)\u001b[0m\u001b[1;33m,\u001b[0m\u001b[0mtrain_loss\u001b[0m\u001b[1;33m,\u001b[0m\u001b[0mlabel\u001b[0m\u001b[1;33m=\u001b[0m\u001b[1;34m'train curve'\u001b[0m\u001b[1;33m)\u001b[0m\u001b[1;33m\u001b[0m\u001b[1;33m\u001b[0m\u001b[0m\n\u001b[0;32m      5\u001b[0m \u001b[0mplt\u001b[0m\u001b[1;33m.\u001b[0m\u001b[0mtitle\u001b[0m\u001b[1;33m(\u001b[0m\u001b[1;34m'epoch vs loss'\u001b[0m\u001b[1;33m)\u001b[0m\u001b[1;33m\u001b[0m\u001b[1;33m\u001b[0m\u001b[0m\n",
      "\u001b[1;31mNameError\u001b[0m: name 'train_vectors_stand' is not defined"
     ]
    }
   ],
   "source": [
    "# plotting graph for epoch vs loss for train and test data\n",
    "\n",
    "w,b,train_loss,epochs = custom_train(train_vectors_stand, train_category.values, 0.0001,0.0001,0.001)\n",
    "plt.plot(range(epochs),train_loss,label='train curve')\n",
    "plt.title('epoch vs loss')\n",
    "plt.legend()\n",
    "plt.xlabel('epoch')\n",
    "plt.ylabel('loss')\n",
    "plt.show()"
   ]
  },
  {
   "cell_type": "markdown",
   "metadata": {
    "id": "IYy8iqhrAne2"
   },
   "source": [
    "### 8. Custom function to make predictions using logistic regression model"
   ]
  },
  {
   "cell_type": "code",
   "execution_count": 55,
   "metadata": {
    "id": "w2gy5NvAlC_6"
   },
   "outputs": [],
   "source": [
    "def predict(w,b, X):\n",
    "    '''function to predict label given weights, bias and standardized data'''\n",
    "    predictions = w.dot(X.T) + b\n",
    "    predictions[predictions>=0] = 1\n",
    "    predictions[predictions<0] = 0\n",
    "    return predictions #it should be a numpy array"
   ]
  },
  {
   "cell_type": "markdown",
   "metadata": {
    "id": "EY3E_yv2OGiD"
   },
   "source": [
    "### Grader Function - 5"
   ]
  },
  {
   "cell_type": "code",
   "execution_count": 160,
   "metadata": {
    "id": "eKYawSBtlRD7"
   },
   "outputs": [
    {
     "name": "stdout",
     "output_type": "stream",
     "text": [
      "initial b 0\n",
      "initial w [0. 0. 0. ... 0. 0. 0.]\n",
      "Current loss: 0.361402963290776\n",
      "Current loss: 0.3061373542545835\n",
      "Current loss: 0.10568492122158166\n",
      "Current loss: 0.09325677807196033\n",
      "Current loss: 0.058553321000566615\n",
      "Current loss: 0.05098133413952792\n",
      "Current loss: 0.04753496721033458\n",
      "Current loss: 0.04515559012677477\n",
      "Current loss: 0.04335655563916297\n",
      "Current loss: 0.041850541914598166\n",
      "Current loss: 0.009750112991639637\n",
      "Current loss: 0.007672689981236568\n",
      "Current loss: 0.00644922657280109\n",
      "Current loss: 0.005588079890274324\n",
      "Success!\n"
     ]
    }
   ],
   "source": [
    "def grader_predict():\n",
    "  ''' grader to check the test accuracy'''\n",
    "  w,b,_,_ = custom_train(train_vectors_stand, train_category.values, 0.0001,0.0001,0.001)\n",
    "  test_preds= predict(w,b,test_vectors_stand)\n",
    "  test_accuracy= (np.sum(test_category==test_preds)/len(test_preds))*100\n",
    "  if(test_accuracy>=90):\n",
    "    print(\"Success!\")\n",
    "  else:\n",
    "    print(\"Failed! \\n Test accuracy = \", test_accuracy)\n",
    "  return\n",
    "  \n",
    "grader_predict()"
   ]
  },
  {
   "cell_type": "markdown",
   "metadata": {
    "id": "ny-Jr3ZlaTiN"
   },
   "source": [
    "**Extension**"
   ]
  },
  {
   "cell_type": "markdown",
   "metadata": {
    "id": "q_Qf8iApaWlK"
   },
   "source": [
    "Learning rate need not be constant always. We can choose to vary the learning rate depending upon various criteria. One simple implementation is to decrease the learning rate by a constant percentage every epoch"
   ]
  },
  {
   "cell_type": "code",
   "execution_count": 163,
   "metadata": {
    "id": "6EMoD2joCbrR"
   },
   "outputs": [],
   "source": [
    "def custom_train_v2(X_train, y_train,alpha, eta0, tolerance):\n",
    "  \"\"\"\n",
    "  In this function we will compute optimal values for weights and bias terms on\n",
    "  the train data. \n",
    "\n",
    "  Here eta0 is the learning rate and alpha is the regularization term.\n",
    "  \"\"\"\n",
    "\n",
    "  #array to store train loss for each epoch\n",
    "  train_loss=[]\n",
    "\n",
    "  # Implement the code as follows:\n",
    "\n",
    "  # 1. Initalize the weights (call the initialize_weights(X_train[0]) function)\n",
    "  # 2. Repeat For many epochs until condition \"e\"  fails\n",
    "          # a) for every data point(X_train,y_train)\n",
    "                # compute gradient w.r.to w (call the gradient_dw() function)\n",
    "                # compute gradient w.r.to b (call the gradient_db() function)\n",
    "                # update w, b using the above eqns\n",
    "          # b) predict the output of x_train[for all data points in X_train] using w,b\n",
    "          # c) compute the loss between predicted and actual values (call the loss function)\n",
    "          # d) store all the train loss values in a list\n",
    "          # e) Compare previous loss and current loss, if the difference between loss is not more than or equal to the tolerance, stop the process and return w,b\n",
    "\n",
    "  # 3. Return the values of weights, bias, train_loss and num_epochs \n",
    "  \n",
    "  #initializing the weights and bias\n",
    "  w,b=initialize_weights_bias(X_train.shape[1])\n",
    "\n",
    "  #storing the number of train points in N\n",
    "  N=len(X_train)\n",
    "\n",
    "  #number of epochs the model is trained\n",
    "  num_epochs=0\n",
    "\n",
    "  #condition to run the training for more epochs\n",
    "  cond=True\n",
    "\n",
    "  #checking whether to run the training for more epochs\n",
    "  while(cond):\n",
    "    \n",
    "    #looping through each datapoint\n",
    "    for j in range(len(X_train)):\n",
    "        x=X_train[j]\n",
    "        y=y_train[j]\n",
    "        \n",
    "        #computing gradients\n",
    "        dw=gradient_dw(x,y,w,b,alpha,N)\n",
    "        db=gradient_db(x,y,w,b)\n",
    "        \n",
    "        #updating weights\n",
    "        w=w-eta0*dw\n",
    "        b=b-eta0*db\n",
    "\n",
    "    #computing y_pred for entire train data as y_pred= sigmoid(wTx+b)\n",
    "    y_pred_train= np.array([custom_sigmoid(np.dot(w,X_traini)+b) for X_traini in X_train])\n",
    "\n",
    "    #adding the train loss of current epoch to the list\n",
    "    train_loss.append(custom_loss(y_train,y_pred_train,alpha,w))\n",
    "\n",
    "    #checking whether loss has improved from previous epoch by atleast tolerance\n",
    "    if num_epochs>0:\n",
    "      cond=((train_loss[num_epochs-1]-train_loss[num_epochs])>=tolerance)\n",
    "\n",
    "    #increasing the number of epochs the model is trained.\n",
    "    num_epochs=num_epochs+1\n",
    "\n",
    "    #decreasing learning rate by 10% each epoch\n",
    "    eta0 = eta0*0.90  \n",
    "\n",
    "  return w,b,train_loss,num_epochs"
   ]
  },
  {
   "cell_type": "code",
   "execution_count": null,
   "metadata": {},
   "outputs": [],
   "source": []
  }
 ],
 "metadata": {
  "colab": {
   "collapsed_sections": [],
   "name": "Logistic Regression from Scratch Assignment.ipynb",
   "provenance": []
  },
  "kernelspec": {
   "display_name": "Python 3",
   "language": "python",
   "name": "python3"
  },
  "language_info": {
   "codemirror_mode": {
    "name": "ipython",
    "version": 3
   },
   "file_extension": ".py",
   "mimetype": "text/x-python",
   "name": "python",
   "nbconvert_exporter": "python",
   "pygments_lexer": "ipython3",
   "version": "3.8.8"
  }
 },
 "nbformat": 4,
 "nbformat_minor": 1
}
